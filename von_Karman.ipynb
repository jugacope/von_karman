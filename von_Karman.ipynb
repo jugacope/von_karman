{
 "cells": [
  {
   "cell_type": "code",
   "execution_count": 1,
   "metadata": {},
   "outputs": [],
   "source": [
    "import numpy as np\n",
    "from scipy.integrate import odeint\n",
    "import matplotlib.pyplot as plt\n",
    "%matplotlib inline\n",
    "\n",
    "def vcampo(t,x,y):\n",
    "    # u = -k*np.sin(k*y-om*t)                         # Campo de velocidades (u,v)\n",
    "    # v = -k*np.cos(k*x-om*t)\n",
    "    # uv= np.array([[u],[v]])\n",
    "    # u   = -(gm*np.pi/a)*(1/(np.cos(2*np.pi*x/a)-np.cosh(np.pi*(b-2*y)/a)))*np.sinh(np.pi*(b-2*y)/a) + (gm*np.pi/a)*(1/(np.cos(2*np.pi*x/a)+np.cosh(np.pi*(b+2*y)/a)))*np.sinh(np.pi*(b+2*y)/a)\n",
    "    # v   = -(gm*np.pi/a)*(1/(np.cos(2*np.pi*x/a)-np.cosh(np.pi*(b-2*y)/a)))*np.sin(2*np.pi*x/a) + (gm*np.pi/a)*(1/(np.cos(2*np.pi*x/a)+np.cosh(np.pi*(b+2*y)/a)))*np.sin(np.pi*2*x/a)\n",
    "    u   = -(gm/(4*a*np.pi))*(1/(np.cos(2*np.pi*x/a)-np.cosh(np.pi*(b-2*y)/a)))*np.sinh(np.pi*(b-2*y)/a) + (gm/(4*a*np.pi))*(1/(np.cos(2*np.pi*x/a)+np.cosh(np.pi*(b+2*y)/a)))*np.sinh(np.pi*(b+2*y)/a)\n",
    "    v   = -(gm/(4*a*np.pi))*(1/(np.cos(2*np.pi*x/a)-np.cosh(np.pi*(b-2*y)/a)))*np.sin(2*np.pi*x/a) + (gm/(4*a*np.pi))*(1/(np.cos(2*np.pi*x/a)+np.cosh(np.pi*(b+2*y)/a)))*np.sin(np.pi*2*x/a)\n",
    "    return u,v\n"
   ]
  },
  {
   "cell_type": "code",
   "execution_count": null,
   "metadata": {},
   "outputs": [],
   "source": []
  }
 ],
 "metadata": {
  "kernelspec": {
   "display_name": "Python 3",
   "language": "python",
   "name": "python3"
  },
  "language_info": {
   "codemirror_mode": {
    "name": "ipython",
    "version": 3
   },
   "file_extension": ".py",
   "mimetype": "text/x-python",
   "name": "python",
   "nbconvert_exporter": "python",
   "pygments_lexer": "ipython3",
   "version": "3.6.4"
  }
 },
 "nbformat": 4,
 "nbformat_minor": 2
}
